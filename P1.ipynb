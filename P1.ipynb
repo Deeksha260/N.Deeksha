{
 "cells": [
  {
   "cell_type": "code",
   "execution_count": 6,
   "id": "f688fb6c-6309-4298-8aa1-6663cbdc65f2",
   "metadata": {},
   "outputs": [
    {
     "name": "stdin",
     "output_type": "stream",
     "text": [
      "enter number 151\n"
     ]
    },
    {
     "name": "stdout",
     "output_type": "stream",
     "text": [
      "palindrome\n"
     ]
    }
   ],
   "source": [
    "#Write a program to check whether a string is palindrome or not.\n",
    "\n",
    "n= int(input(\"enter number\"))\n",
    "temp=n\n",
    "rev=0\n",
    "while n!=0:\n",
    "    rem= n%10\n",
    "    rev=rev*10+rem\n",
    "    n=n//10\n",
    "if temp==rev:\n",
    "    print(\"palindrome\")\n",
    "else:\n",
    "    print(\"not palindrome\")"
   ]
  },
  {
   "cell_type": "code",
   "execution_count": 16,
   "id": "e25fae1d-b67d-4cc1-9a22-efcffb6a4723",
   "metadata": {},
   "outputs": [
    {
     "name": "stdin",
     "output_type": "stream",
     "text": [
      " 1234\n"
     ]
    },
    {
     "name": "stdout",
     "output_type": "stream",
     "text": [
      "rev: 4321\n"
     ]
    }
   ],
   "source": [
    "#Write a program to reverse a digits of number.\n",
    "\n",
    "n=int(input())\n",
    "rev=0\n",
    "while n!=0:\n",
    "    rem=n%10\n",
    "    rev=rev*10+rem\n",
    "    n=n//10\n",
    "print(\"rev: \" + str(rev))"
   ]
  },
  {
   "cell_type": "code",
   "execution_count": 18,
   "id": "417ab401-bbd8-4718-adc8-c1fe3939a62f",
   "metadata": {},
   "outputs": [
    {
     "name": "stdin",
     "output_type": "stream",
     "text": [
      " 44\n"
     ]
    },
    {
     "name": "stdout",
     "output_type": "stream",
     "text": [
      "not prime\n"
     ]
    }
   ],
   "source": [
    "#Write a program for prime numbers.\n",
    "\n",
    "n=int(input())\n",
    "for i in range(2,n):\n",
    "    if n%i==0:\n",
    "        print(\"not prime\")\n",
    "        break\n",
    "    else:\n",
    "        print(\"prime\")"
   ]
  },
  {
   "cell_type": "code",
   "execution_count": 23,
   "id": "fc279704-931c-468d-90e3-d3caeed73d19",
   "metadata": {},
   "outputs": [
    {
     "name": "stdin",
     "output_type": "stream",
     "text": [
      " 7\n"
     ]
    },
    {
     "name": "stdout",
     "output_type": "stream",
     "text": [
      "The factorial of 7 is 5040\n"
     ]
    }
   ],
   "source": [
    "#Write a program to find the factorial of a number.\n",
    "\n",
    "n=int(input())\n",
    "res=1\n",
    "for i in range(1,n+1):\n",
    "    res=res*i\n",
    "print(\"The factorial of\",n,\"is\",res)"
   ]
  },
  {
   "cell_type": "code",
   "execution_count": 24,
   "id": "e591d7c0-5eae-4d23-b64f-9e8be8fabbcc",
   "metadata": {},
   "outputs": [
    {
     "name": "stdout",
     "output_type": "stream",
     "text": [
      "Sum of all elements in a given list:  63\n"
     ]
    }
   ],
   "source": [
    "#Write a Python program to find the sum of all elements in a list and handle the case where the list contains non-numeric values.\n",
    "\n",
    "total = 0 \n",
    " \n",
    "list1 = [ 5, 17, 18, 23] \n",
    " \n",
    "for ele in range(0, len(list1)): \n",
    "\ttotal = total + list1[ele] \n",
    " \n",
    "print(\"Sum of all elements in a given list: \", total) "
   ]
  },
  {
   "cell_type": "code",
   "execution_count": 43,
   "id": "a729c4fe-aa60-4cab-afcd-391ff93ca2c9",
   "metadata": {},
   "outputs": [
    {
     "name": "stdout",
     "output_type": "stream",
     "text": [
      "[38.25]\n"
     ]
    }
   ],
   "source": [
    "#Create a Dictionary containing the names of students and their corresponding grades. Write a program to calculate the average grade and handle the case where the Dictionary is empty.\n",
    "\n",
    "def solve(scores):\n",
    "    avg_scores = dict()\n",
    "    for name in scores:\n",
    "       avg_scores[name] = sum(scores[name])/len(scores[name])\n",
    "\n",
    "       return list(avg_scores.values())\n",
    "\n",
    "scores = {'jay' : [25,36,47,45],'rishi' : [85,74,69,47],'priya' : [65,35,87,14],'rema' : [74,12,36,75]}\n",
    "print(solve(scores))"
   ]
  },
  {
   "cell_type": "code",
   "execution_count": 1,
   "id": "f710d526-b06b-49bf-b528-4e7d7b940bf6",
   "metadata": {},
   "outputs": [
    {
     "name": "stdin",
     "output_type": "stream",
     "text": [
      "Enter First Number:  75\n",
      "Enter Second Number:  32\n",
      "Enter any of these char for specific operation +,-,*,/:  +\n"
     ]
    },
    {
     "name": "stdout",
     "output_type": "stream",
     "text": [
      "75 + 32 : 107\n"
     ]
    }
   ],
   "source": [
    "#Develop a  menu driven code  to perform the basic arithmetic operations like addition, subtraction ,division, moduls, multiplication ,power\n",
    "\n",
    "num1 = int(input(\"Enter First Number: \"))\n",
    "num2 = int(input(\"Enter Second Number: \"))\n",
    "\n",
    "\n",
    "ch = input(\"Enter any of these char for specific operation +,-,*,/: \")\n",
    "\n",
    "result = 0\n",
    "if ch == '+':\n",
    "    result = num1 + num2\n",
    "elif ch == '-':\n",
    "        result = num1 - num2\n",
    "elif ch == '*':\n",
    "    result = num1 * num2\n",
    "elif ch == '/':\n",
    "    result = num1 / num2\n",
    "else:\n",
    "    print(\"Input character is not recognized!\")\n",
    "\n",
    "print(num1, ch , num2, \":\", result)"
   ]
  },
  {
   "cell_type": "code",
   "execution_count": null,
   "id": "7d45220b-0421-4d4f-aa88-ce03852ec5e2",
   "metadata": {},
   "outputs": [],
   "source": []
  }
 ],
 "metadata": {
  "kernelspec": {
   "display_name": "Python 3 (ipykernel)",
   "language": "python",
   "name": "python3"
  },
  "language_info": {
   "codemirror_mode": {
    "name": "ipython",
    "version": 3
   },
   "file_extension": ".py",
   "mimetype": "text/x-python",
   "name": "python",
   "nbconvert_exporter": "python",
   "pygments_lexer": "ipython3",
   "version": "3.12.3"
  }
 },
 "nbformat": 4,
 "nbformat_minor": 5
}
