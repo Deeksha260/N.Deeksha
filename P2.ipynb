{
 "cells": [
  {
   "cell_type": "code",
   "execution_count": 1,
   "id": "2934773c-33c3-40bb-9476-3d87ef275f7e",
   "metadata": {},
   "outputs": [
    {
     "name": "stdin",
     "output_type": "stream",
     "text": [
      "Enter the Temperature in Celsius :\n",
      " 20\n"
     ]
    },
    {
     "name": "stdout",
     "output_type": "stream",
     "text": [
      "Temperature in Fahrenheit: 68.0\n"
     ]
    }
   ],
   "source": [
    "# Convert a temperature from Celsius to Fahrenheit.\n",
    "\n",
    "celsius = int(input(\"Enter the Temperature in Celsius :\\n\"))\n",
    "fahrenheit = (1.8 * celsius) + 32\n",
    "\n",
    "print(\"Temperature in Fahrenheit:\",fahrenheit)"
   ]
  },
  {
   "cell_type": "code",
   "execution_count": 4,
   "id": "585520f0-1fa2-423c-8387-2b860dab233a",
   "metadata": {},
   "outputs": [
    {
     "name": "stdout",
     "output_type": "stream",
     "text": [
      "Second largest element is: 45\n"
     ]
    }
   ],
   "source": [
    "#Find the second largest element in a list.\n",
    "\n",
    "list1 = [10, 20, 4, 45, 99]\n",
    "    \n",
    "list1.sort()\n",
    "     \n",
    "print(\"Second largest element is:\", list1[-2])\n"
   ]
  },
  {
   "cell_type": "code",
   "execution_count": 8,
   "id": "8ef9b529-caa1-410a-a16c-a102eb4053f7",
   "metadata": {},
   "outputs": [
    {
     "name": "stdout",
     "output_type": "stream",
     "text": [
      "2\n"
     ]
    }
   ],
   "source": [
    "#Count the occurrences of each element in a list.\n",
    "\n",
    "list = [1, 2, 3, 4, 5, 5, 7, 8, 9, 10]  \n",
    "count = 0  \n",
    "for i in list:  \n",
    " if(i == 5):  \n",
    "  count += 1  \n",
    "print(count)  "
   ]
  },
  {
   "cell_type": "code",
   "execution_count": 9,
   "id": "2fba5086-305a-46af-8283-276d0aa806f5",
   "metadata": {},
   "outputs": [
    {
     "name": "stdout",
     "output_type": "stream",
     "text": [
      "20\n"
     ]
    }
   ],
   "source": [
    "#Find the sum of all even numbers in a list.\n",
    "\n",
    "List = [1,2,3,4,5,6,7,8]\n",
    "sums = 0\n",
    "for i in List:\n",
    "    if i % 2 == 0 : \n",
    "        sums += i\n",
    "print(sums)\n"
   ]
  },
  {
   "cell_type": "code",
   "execution_count": 12,
   "id": "e2acaa0a-17a4-4f40-9abc-5b6e89d214e5",
   "metadata": {},
   "outputs": [
    {
     "name": "stdout",
     "output_type": "stream",
     "text": [
      "Number of vowels in the given string is:  2\n"
     ]
    }
   ],
   "source": [
    "#Count the number of vowels in a string.\n",
    "\n",
    "x = \"vowels\"\n",
    "\n",
    "vowels = [\"a\", \"e\", \"i\", \"o\", \"u\"]\n",
    "count = 0\n",
    "\n",
    "\n",
    "for i in x:\n",
    "    if i in vowels:\n",
    "        count += 1\n",
    "\n",
    "\n",
    "print(\"Number of vowels in the given string is: \", count)\n",
    " "
   ]
  },
  {
   "cell_type": "code",
   "execution_count": null,
   "id": "5d82ae5b-bc6f-4f64-a68d-50ff27887859",
   "metadata": {},
   "outputs": [],
   "source": []
  }
 ],
 "metadata": {
  "kernelspec": {
   "display_name": "Python 3 (ipykernel)",
   "language": "python",
   "name": "python3"
  },
  "language_info": {
   "codemirror_mode": {
    "name": "ipython",
    "version": 3
   },
   "file_extension": ".py",
   "mimetype": "text/x-python",
   "name": "python",
   "nbconvert_exporter": "python",
   "pygments_lexer": "ipython3",
   "version": "3.12.3"
  }
 },
 "nbformat": 4,
 "nbformat_minor": 5
}
